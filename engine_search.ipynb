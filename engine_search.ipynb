{
 "cells": [
  {
   "cell_type": "markdown",
   "metadata": {},
   "source": [
    "# Search an Engine\n",
    "Who doesn't know this problem?! You get up in the morning, about to use your motorized vehicle - only to discover that the engine is gone! Again!\n",
    "\n",
    "Thus, today, finally, the automated solution to this age-old problem: A simple **engine search**! _(and with minimum effort you can also look for something else)_."
   ]
  },
  {
   "cell_type": "code",
   "execution_count": 33,
   "metadata": {
    "collapsed": false
   },
   "outputs": [],
   "source": [
    "import re\n",
    "from pprint import pprint\n",
    "import bs4 as bs\n",
    "import urllib.request as uq"
   ]
  },
  {
   "cell_type": "code",
   "execution_count": 58,
   "metadata": {
    "collapsed": false
   },
   "outputs": [],
   "source": [
    "def make_soups(site_list):\n",
    "    \"\"\"creates BeautifulSoup objects from input URLs.\n",
    "    \n",
    "    :param site_list: a list of URLs\n",
    "    :type site_list: list\n",
    "    :return: a dictionary mapping the URLs to the bs objects\n",
    "    :rtype: dict{str : BeautifulSoupObject, str : BeautifulSoupObject}\n",
    "    \"\"\"\n",
    "    soup_bowl = {}\n",
    "    for site in site_list:\n",
    "        sauce = uq.urlopen(site).read()\n",
    "        soup = bs.BeautifulSoup(sauce, \"lxml\")\n",
    "        soup_bowl[site] = soup\n",
    "    return soup_bowl\n",
    "\n",
    "def find_word_in_alphabet_soup(soup_bowl, search_term):\n",
    "    \"\"\"prints all BeautifulSoup text items that contain the search term\"\"\"\n",
    "    for site, soup in soup_bowl.items():\n",
    "        results = soup.body.findAll(text = search_term)\n",
    "        annotated_results =(site, results)\n",
    "        pprint(annotated_results)"
   ]
  },
  {
   "cell_type": "code",
   "execution_count": 59,
   "metadata": {
    "collapsed": true
   },
   "outputs": [],
   "source": [
    "# add URLs to expand the places to look in\n",
    "site_list = [\"https://en.wikipedia.org/wiki/Hickory\",\n",
    "            \"https://en.wikipedia.org/wiki/Eastern_bluebird\",\n",
    "            \"http://road.cc/content/tech-news/177135-breaking-suspected-hidden-engine-bike-2016-cyclocross-world-champs\"]\n",
    "\n",
    "# create the tasty waters\n",
    "soup_bowl = make_soups(site_list)"
   ]
  },
  {
   "cell_type": "code",
   "execution_count": 60,
   "metadata": {
    "collapsed": false
   },
   "outputs": [],
   "source": [
    "# enter search term here\n",
    "word = \"engine\"\n",
    "\n",
    "# adding case insensitivity (remove \"(?i)\" if not desired)\n",
    "search_term = re.compile(r\"(?i){}\".format(word))"
   ]
  },
  {
   "cell_type": "code",
   "execution_count": 63,
   "metadata": {
    "collapsed": false
   },
   "outputs": [],
   "source": [
    "# aaaaand: look for the term\n",
    "find_word_in_alphabet_soup(soup_bowl, search_term)"
   ]
  }
 ],
 "metadata": {
  "anaconda-cloud": {},
  "kernelspec": {
   "display_name": "Python [conda env:car]",
   "language": "python",
   "name": "conda-env-car-py"
  },
  "language_info": {
   "codemirror_mode": {
    "name": "ipython",
    "version": 3
   },
   "file_extension": ".py",
   "mimetype": "text/x-python",
   "name": "python",
   "nbconvert_exporter": "python",
   "pygments_lexer": "ipython3",
   "version": "3.5.2"
  }
 },
 "nbformat": 4,
 "nbformat_minor": 1
}
